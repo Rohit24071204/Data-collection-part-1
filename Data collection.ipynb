{
 "cells": [
  {
   "cell_type": "markdown",
   "id": "7fe1cfeb",
   "metadata": {},
   "source": [
    "# DATA COLLECTION"
   ]
  },
  {
   "cell_type": "code",
   "execution_count": 2,
   "id": "540cd751",
   "metadata": {},
   "outputs": [
    {
     "name": "stdout",
     "output_type": "stream",
     "text": [
      "[34, 52, 85, 63, 96, 2222, 9999, 66663333]\n"
     ]
    }
   ],
   "source": [
    "#LIST,TUPLE,DICTONARY\n",
    "a=[34,52,85,63,96,2222,9999,66663333]\n",
    "print(a)"
   ]
  },
  {
   "cell_type": "code",
   "execution_count": 3,
   "id": "4298658f",
   "metadata": {},
   "outputs": [
    {
     "data": {
      "text/plain": [
       "list"
      ]
     },
     "execution_count": 3,
     "metadata": {},
     "output_type": "execute_result"
    }
   ],
   "source": [
    "type(a)"
   ]
  },
  {
   "cell_type": "code",
   "execution_count": 6,
   "id": "11c56ccb",
   "metadata": {},
   "outputs": [
    {
     "name": "stdout",
     "output_type": "stream",
     "text": [
      "['hello brother', 89, 'bahubali', 999999, 'fghjkkhg']\n"
     ]
    }
   ],
   "source": [
    "a=['hello brother',89,'bahubali',999999,'fghjkkhg']\n",
    "print(a)"
   ]
  },
  {
   "cell_type": "code",
   "execution_count": 16,
   "id": "d108235e",
   "metadata": {},
   "outputs": [
    {
     "name": "stdout",
     "output_type": "stream",
     "text": [
      "10401\n"
     ]
    }
   ],
   "source": [
    "#write a problem to add all the numbers present in a list.\n",
    "a=[45,78,90,45,12,65,78,9988]\n",
    "b=0\n",
    "for i in a:\n",
    "    b=i+b\n",
    "print(b)\n"
   ]
  },
  {
   "cell_type": "code",
   "execution_count": null,
   "id": "6c2590d7",
   "metadata": {},
   "outputs": [],
   "source": [
    "# write a problem to multiply all the numbers preseent in a list.\n",
    "a=[2,3,4,5,6,7,8,9,0]\n",
    "b=1\n",
    "for i in a:\n",
    "    b=i*b\n",
    "print(b)"
   ]
  },
  {
   "cell_type": "markdown",
   "id": "964d3198",
   "metadata": {},
   "source": [
    "# sciling and indexing.\n"
   ]
  },
  {
   "cell_type": "code",
   "execution_count": 22,
   "id": "7cf2f3c5",
   "metadata": {},
   "outputs": [
    {
     "data": {
      "text/plain": [
       "'bahunbali'"
      ]
     },
     "execution_count": 22,
     "metadata": {},
     "output_type": "execute_result"
    }
   ],
   "source": [
    "a=[34,56,89,98,'python','bahunbali',77.8,'true','hello brother']\n",
    "a[5]"
   ]
  },
  {
   "cell_type": "code",
   "execution_count": 23,
   "id": "8fbe0c21",
   "metadata": {},
   "outputs": [
    {
     "data": {
      "text/plain": [
       "'python'"
      ]
     },
     "execution_count": 23,
     "metadata": {},
     "output_type": "execute_result"
    }
   ],
   "source": [
    "a[4]"
   ]
  },
  {
   "cell_type": "code",
   "execution_count": 24,
   "id": "d7291519",
   "metadata": {},
   "outputs": [
    {
     "data": {
      "text/plain": [
       "34"
      ]
     },
     "execution_count": 24,
     "metadata": {},
     "output_type": "execute_result"
    }
   ],
   "source": [
    "a[0]"
   ]
  },
  {
   "cell_type": "code",
   "execution_count": 25,
   "id": "9d2136a2",
   "metadata": {},
   "outputs": [
    {
     "data": {
      "text/plain": [
       "56"
      ]
     },
     "execution_count": 25,
     "metadata": {},
     "output_type": "execute_result"
    }
   ],
   "source": [
    "a[1]"
   ]
  },
  {
   "cell_type": "code",
   "execution_count": 26,
   "id": "4b7ec039",
   "metadata": {},
   "outputs": [
    {
     "data": {
      "text/plain": [
       "89"
      ]
     },
     "execution_count": 26,
     "metadata": {},
     "output_type": "execute_result"
    }
   ],
   "source": [
    "a[2]"
   ]
  },
  {
   "cell_type": "code",
   "execution_count": 27,
   "id": "c662109c",
   "metadata": {},
   "outputs": [
    {
     "data": {
      "text/plain": [
       "98"
      ]
     },
     "execution_count": 27,
     "metadata": {},
     "output_type": "execute_result"
    }
   ],
   "source": [
    "a[3]"
   ]
  },
  {
   "cell_type": "code",
   "execution_count": 28,
   "id": "108ab0c7",
   "metadata": {},
   "outputs": [
    {
     "data": {
      "text/plain": [
       "77.8"
      ]
     },
     "execution_count": 28,
     "metadata": {},
     "output_type": "execute_result"
    }
   ],
   "source": [
    "a[6]"
   ]
  },
  {
   "cell_type": "code",
   "execution_count": 29,
   "id": "813ac26d",
   "metadata": {},
   "outputs": [
    {
     "data": {
      "text/plain": [
       "'true'"
      ]
     },
     "execution_count": 29,
     "metadata": {},
     "output_type": "execute_result"
    }
   ],
   "source": [
    "a[7]"
   ]
  },
  {
   "cell_type": "code",
   "execution_count": 30,
   "id": "79ac6bc1",
   "metadata": {},
   "outputs": [
    {
     "data": {
      "text/plain": [
       "'hello brother'"
      ]
     },
     "execution_count": 30,
     "metadata": {},
     "output_type": "execute_result"
    }
   ],
   "source": [
    "a[8]"
   ]
  },
  {
   "cell_type": "code",
   "execution_count": 32,
   "id": "56d8a284",
   "metadata": {},
   "outputs": [
    {
     "data": {
      "text/plain": [
       "'hello brother'"
      ]
     },
     "execution_count": 32,
     "metadata": {},
     "output_type": "execute_result"
    }
   ],
   "source": [
    "a[-1]"
   ]
  },
  {
   "cell_type": "code",
   "execution_count": 33,
   "id": "6f34cdaf",
   "metadata": {},
   "outputs": [
    {
     "data": {
      "text/plain": [
       "'true'"
      ]
     },
     "execution_count": 33,
     "metadata": {},
     "output_type": "execute_result"
    }
   ],
   "source": [
    "a[-2]"
   ]
  },
  {
   "cell_type": "code",
   "execution_count": 34,
   "id": "16538028",
   "metadata": {},
   "outputs": [
    {
     "data": {
      "text/plain": [
       "77.8"
      ]
     },
     "execution_count": 34,
     "metadata": {},
     "output_type": "execute_result"
    }
   ],
   "source": [
    "a[-3]"
   ]
  },
  {
   "cell_type": "code",
   "execution_count": 35,
   "id": "6e1d949a",
   "metadata": {},
   "outputs": [
    {
     "data": {
      "text/plain": [
       "'bahunbali'"
      ]
     },
     "execution_count": 35,
     "metadata": {},
     "output_type": "execute_result"
    }
   ],
   "source": [
    "a[-4]"
   ]
  },
  {
   "cell_type": "code",
   "execution_count": 36,
   "id": "f5542b45",
   "metadata": {},
   "outputs": [
    {
     "data": {
      "text/plain": [
       "'python'"
      ]
     },
     "execution_count": 36,
     "metadata": {},
     "output_type": "execute_result"
    }
   ],
   "source": [
    "a[-5]"
   ]
  },
  {
   "cell_type": "code",
   "execution_count": 37,
   "id": "7d452fa3",
   "metadata": {},
   "outputs": [
    {
     "data": {
      "text/plain": [
       "98"
      ]
     },
     "execution_count": 37,
     "metadata": {},
     "output_type": "execute_result"
    }
   ],
   "source": [
    "a[-6]"
   ]
  },
  {
   "cell_type": "code",
   "execution_count": 38,
   "id": "0b0cc22b",
   "metadata": {},
   "outputs": [
    {
     "data": {
      "text/plain": [
       "89"
      ]
     },
     "execution_count": 38,
     "metadata": {},
     "output_type": "execute_result"
    }
   ],
   "source": [
    "a[-7]"
   ]
  },
  {
   "cell_type": "code",
   "execution_count": 39,
   "id": "a21fb16f",
   "metadata": {},
   "outputs": [
    {
     "data": {
      "text/plain": [
       "34"
      ]
     },
     "execution_count": 39,
     "metadata": {},
     "output_type": "execute_result"
    }
   ],
   "source": [
    "a[-9]"
   ]
  },
  {
   "cell_type": "code",
   "execution_count": 40,
   "id": "ddb2a06b",
   "metadata": {},
   "outputs": [
    {
     "data": {
      "text/plain": [
       "56"
      ]
     },
     "execution_count": 40,
     "metadata": {},
     "output_type": "execute_result"
    }
   ],
   "source": [
    "a[-8]"
   ]
  },
  {
   "cell_type": "code",
   "execution_count": null,
   "id": "f0a9f770",
   "metadata": {},
   "outputs": [],
   "source": []
  },
  {
   "cell_type": "code",
   "execution_count": null,
   "id": "fac8c190",
   "metadata": {},
   "outputs": [],
   "source": []
  }
 ],
 "metadata": {
  "kernelspec": {
   "display_name": "Python 3 (ipykernel)",
   "language": "python",
   "name": "python3"
  },
  "language_info": {
   "codemirror_mode": {
    "name": "ipython",
    "version": 3
   },
   "file_extension": ".py",
   "mimetype": "text/x-python",
   "name": "python",
   "nbconvert_exporter": "python",
   "pygments_lexer": "ipython3",
   "version": "3.9.13"
  }
 },
 "nbformat": 4,
 "nbformat_minor": 5
}
